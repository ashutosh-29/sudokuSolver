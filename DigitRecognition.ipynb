{
 "cells": [
  {
   "cell_type": "code",
   "execution_count": 1,
   "metadata": {},
   "outputs": [],
   "source": [
    "import numpy as np\n",
    "import cv2\n",
    "import os"
   ]
  },
  {
   "cell_type": "code",
   "execution_count": 2,
   "metadata": {},
   "outputs": [],
   "source": [
    "path='./digitData/'\n",
    "xlis=[]\n",
    "ylis=[]\n",
    "for i in range(10):\n",
    "    for fx in os.listdir(path+str(i)):\n",
    "        if fx.endswith('.png'):\n",
    "            vpath=path+str(i)\n",
    "            vpath=vpath+'/'\n",
    "            dataimg=cv2.imread(vpath+fx)\n",
    "            dataimg=cv2.cvtColor(dataimg,cv2.COLOR_BGR2GRAY)\n",
    "            dataimg=cv2.resize(dataimg,(28,28))\n",
    "            data=np.asarray(dataimg)\n",
    "            data=data.reshape((28,28,1))\n",
    "            xlis.append(data)\n",
    "            ylis.append(i)"
   ]
  },
  {
   "cell_type": "code",
   "execution_count": 3,
   "metadata": {},
   "outputs": [
    {
     "name": "stdout",
     "output_type": "stream",
     "text": [
      "(10181, 28, 28, 1)\n",
      "(10181,)\n"
     ]
    }
   ],
   "source": [
    "features=np.array(xlis)\n",
    "labels=np.array(ylis)\n",
    "print(features.shape)\n",
    "print(labels.shape)"
   ]
  },
  {
   "cell_type": "code",
   "execution_count": 4,
   "metadata": {},
   "outputs": [],
   "source": [
    "from sklearn.model_selection import train_test_split"
   ]
  },
  {
   "cell_type": "code",
   "execution_count": 5,
   "metadata": {},
   "outputs": [
    {
     "data": {
      "text/plain": [
       "((8144, 28, 28, 1), (2037, 28, 28, 1))"
      ]
     },
     "execution_count": 5,
     "metadata": {},
     "output_type": "execute_result"
    }
   ],
   "source": [
    "xtrain,xtest,ytrain,ytest=train_test_split(features,labels,test_size=0.2)\n",
    "xtrain.shape,xtest.shape"
   ]
  },
  {
   "cell_type": "code",
   "execution_count": 6,
   "metadata": {},
   "outputs": [],
   "source": [
    "import matplotlib.pyplot as plt"
   ]
  },
  {
   "cell_type": "code",
   "execution_count": 7,
   "metadata": {},
   "outputs": [
    {
     "name": "stdout",
     "output_type": "stream",
     "text": [
      "4\n"
     ]
    },
    {
     "data": {
      "text/plain": [
       "<matplotlib.image.AxesImage at 0x245d305e250>"
      ]
     },
     "execution_count": 7,
     "metadata": {},
     "output_type": "execute_result"
    },
    {
     "data": {
      "image/png": "[encoded data removed]",
      "text/plain": [
       "<Figure size 432x288 with 1 Axes>"
      ]
     },
     "metadata": {
      "needs_background": "light"
     },
     "output_type": "display_data"
    }
   ],
   "source": [
    "print(ytest[2])\n",
    "plt.imshow(xtest[2],cmap='gray')"
   ]
  },
  {
   "cell_type": "code",
   "execution_count": 8,
   "metadata": {},
   "outputs": [],
   "source": [
    "xtrain=xtrain.astype('float32')\n",
    "xtest=xtest.astype('float32')\n",
    "xtrain=xtrain/255\n",
    "xtest=xtest/255\n",
    "from keras.models import Sequential\n",
    "from keras.layers import Dense,Flatten,Conv2D,MaxPooling2D,Dropout"
   ]
  },
  {
   "cell_type": "code",
   "execution_count": 9,
   "metadata": {},
   "outputs": [],
   "source": [
    "model = Sequential()\n",
    "model.add(Conv2D(128, kernel_size=5, activation='relu', input_shape=(28, 28, 1)))\n",
    "model.add(Conv2D(256, kernel_size=5, activation='relu'))\n",
    "model.add(MaxPooling2D((2, 2)))\n",
    "model.add(Dropout(0.25))\n",
    "\n",
    "model.add(Conv2D(64, kernel_size=3, activation='relu'))\n",
    "model.add(Conv2D(128, kernel_size=3, activation='relu'))\n",
    "model.add(MaxPooling2D((2, 2)))\n",
    "\n",
    "model.add(Flatten())\n",
    "model.add(Dense(256, activation='relu'))\n",
    "model.add(Dropout(0.25))\n",
    "model.add(Dense(32, activation='relu'))\n",
    "model.add(Dense(10,activation='softmax'))"
   ]
  },
  {
   "cell_type": "code",
   "execution_count": 10,
   "metadata": {},
   "outputs": [],
   "source": [
    "model.compile(optimizer='adam',loss='categorical_crossentropy',metrics=['accuracy'])"
   ]
  },
  {
   "cell_type": "code",
   "execution_count": 11,
   "metadata": {},
   "outputs": [],
   "source": [
    "from keras.utils import to_categorical"
   ]
  },
  {
   "cell_type": "code",
   "execution_count": 12,
   "metadata": {},
   "outputs": [],
   "source": [
    "ytrain1hot=to_categorical(ytrain)\n",
    "ytest1hot=to_categorical(ytest)"
   ]
  },
  {
   "cell_type": "code",
   "execution_count": 13,
   "metadata": {},
   "outputs": [
    {
     "name": "stdout",
     "output_type": "stream",
     "text": [
      "Epoch 1/11\n",
      "255/255 [==============================] - 184s 715ms/step - loss: 1.1016 - accuracy: 0.6188 - val_loss: 0.1293 - val_accuracy: 0.9622\n",
      "Epoch 2/11\n",
      "255/255 [==============================] - 191s 749ms/step - loss: 0.1092 - accuracy: 0.9644 - val_loss: 0.0740 - val_accuracy: 0.9789\n",
      "Epoch 3/11\n",
      "255/255 [==============================] - 177s 696ms/step - loss: 0.0724 - accuracy: 0.9795 - val_loss: 0.0437 - val_accuracy: 0.9912\n",
      "Epoch 4/11\n",
      "255/255 [==============================] - 177s 696ms/step - loss: 0.0399 - accuracy: 0.9870 - val_loss: 0.0536 - val_accuracy: 0.9892\n",
      "Epoch 5/11\n",
      "255/255 [==============================] - 176s 692ms/step - loss: 0.0412 - accuracy: 0.9888 - val_loss: 0.0581 - val_accuracy: 0.9882\n",
      "Epoch 6/11\n",
      "255/255 [==============================] - 172s 676ms/step - loss: 0.0426 - accuracy: 0.9863 - val_loss: 0.0438 - val_accuracy: 0.9897\n",
      "Epoch 7/11\n",
      "255/255 [==============================] - 177s 694ms/step - loss: 0.0340 - accuracy: 0.9905 - val_loss: 0.0475 - val_accuracy: 0.9853\n",
      "Epoch 8/11\n",
      "255/255 [==============================] - 177s 694ms/step - loss: 0.0476 - accuracy: 0.9890 - val_loss: 0.0322 - val_accuracy: 0.9926\n",
      "Epoch 9/11\n",
      "255/255 [==============================] - 188s 737ms/step - loss: 0.0296 - accuracy: 0.9930 - val_loss: 0.0607 - val_accuracy: 0.9863\n",
      "Epoch 10/11\n",
      "255/255 [==============================] - 185s 725ms/step - loss: 0.0306 - accuracy: 0.9917 - val_loss: 0.0451 - val_accuracy: 0.9936\n",
      "Epoch 11/11\n",
      "255/255 [==============================] - 171s 671ms/step - loss: 0.0129 - accuracy: 0.9968 - val_loss: 0.0523 - val_accuracy: 0.9892\n"
     ]
    }
   ],
   "source": [
    "history=model.fit(xtrain,ytrain1hot,epochs=11,validation_data=(xtest,ytest1hot))"
   ]
  },
  {
   "cell_type": "code",
   "execution_count": 16,
   "metadata": {},
   "outputs": [
    {
     "name": "stdout",
     "output_type": "stream",
     "text": [
      "64/64 [==============================] - 7s 102ms/step - loss: 0.0523 - accuracy: 0.9892\n"
     ]
    },
    {
     "data": {
      "text/plain": [
       "[0.052299823611974716, 0.9891998171806335]"
      ]
     },
     "execution_count": 16,
     "metadata": {},
     "output_type": "execute_result"
    }
   ],
   "source": [
    "model.evaluate(xtest,ytest1hot)"
   ]
  },
  {
   "cell_type": "code",
   "execution_count": 17,
   "metadata": {},
   "outputs": [],
   "source": [
    "model.save('CNNModel.h5')"
   ]
  },
  {
   "cell_type": "code",
   "execution_count": null,
   "metadata": {},
   "outputs": [],
   "source": []
  }
 ],
 "metadata": {
  "kernelspec": {
   "display_name": "Python 3",
   "language": "python",
   "name": "python3"
  },
  "language_info": {
   "codemirror_mode": {
    "name": "ipython",
    "version": 3
   },
   "file_extension": ".py",
   "mimetype": "text/x-python",
   "name": "python",
   "nbconvert_exporter": "python",
   "pygments_lexer": "ipython3",
   "version": "3.8.5"
  }
 },
 "nbformat": 4,
 "nbformat_minor": 4
}
